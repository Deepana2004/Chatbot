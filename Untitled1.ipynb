{
 "cells": [
  {
   "cell_type": "code",
   "execution_count": 1,
   "id": "4fd8b22d",
   "metadata": {},
   "outputs": [
    {
     "ename": "ModuleNotFoundError",
     "evalue": "No module named 'pwd'",
     "output_type": "error",
     "traceback": [
      "\u001b[1;31m---------------------------------------------------------------------------\u001b[0m",
      "\u001b[1;31mModuleNotFoundError\u001b[0m                       Traceback (most recent call last)",
      "Cell \u001b[1;32mIn[1], line 1\u001b[0m\n\u001b[1;32m----> 1\u001b[0m \u001b[38;5;28;01mfrom\u001b[39;00m \u001b[38;5;21;01mlangchain\u001b[39;00m\u001b[38;5;21;01m.\u001b[39;00m\u001b[38;5;21;01mdocument_loaders\u001b[39;00m \u001b[38;5;28;01mimport\u001b[39;00m TextLoader\n",
      "File \u001b[1;32m~\\anaconda3\\Lib\\site-packages\\langchain\\document_loaders\\__init__.py:32\u001b[0m, in \u001b[0;36m__getattr__\u001b[1;34m(name)\u001b[0m\n\u001b[0;32m     31\u001b[0m \u001b[38;5;28;01mdef\u001b[39;00m \u001b[38;5;21m__getattr__\u001b[39m(name: \u001b[38;5;28mstr\u001b[39m) \u001b[38;5;241m-\u001b[39m\u001b[38;5;241m>\u001b[39m Any:\n\u001b[1;32m---> 32\u001b[0m     \u001b[38;5;28;01mfrom\u001b[39;00m \u001b[38;5;21;01mlangchain_community\u001b[39;00m \u001b[38;5;28;01mimport\u001b[39;00m document_loaders\n\u001b[0;32m     34\u001b[0m     \u001b[38;5;66;03m# If not in interactive env, raise warning.\u001b[39;00m\n\u001b[0;32m     35\u001b[0m     \u001b[38;5;28;01mif\u001b[39;00m \u001b[38;5;129;01mnot\u001b[39;00m is_interactive_env():\n",
      "File \u001b[1;32m~\\anaconda3\\Lib\\site-packages\\langchain_community\\document_loaders\\__init__.py:163\u001b[0m\n\u001b[0;32m    149\u001b[0m \u001b[38;5;28;01mfrom\u001b[39;00m \u001b[38;5;21;01mlangchain_community\u001b[39;00m\u001b[38;5;21;01m.\u001b[39;00m\u001b[38;5;21;01mdocument_loaders\u001b[39;00m\u001b[38;5;21;01m.\u001b[39;00m\u001b[38;5;21;01morg_mode\u001b[39;00m \u001b[38;5;28;01mimport\u001b[39;00m UnstructuredOrgModeLoader\n\u001b[0;32m    150\u001b[0m \u001b[38;5;28;01mfrom\u001b[39;00m \u001b[38;5;21;01mlangchain_community\u001b[39;00m\u001b[38;5;21;01m.\u001b[39;00m\u001b[38;5;21;01mdocument_loaders\u001b[39;00m\u001b[38;5;21;01m.\u001b[39;00m\u001b[38;5;21;01mpdf\u001b[39;00m \u001b[38;5;28;01mimport\u001b[39;00m (\n\u001b[0;32m    151\u001b[0m     AmazonTextractPDFLoader,\n\u001b[0;32m    152\u001b[0m     MathpixPDFLoader,\n\u001b[1;32m   (...)\u001b[0m\n\u001b[0;32m    161\u001b[0m     UnstructuredPDFLoader,\n\u001b[0;32m    162\u001b[0m )\n\u001b[1;32m--> 163\u001b[0m \u001b[38;5;28;01mfrom\u001b[39;00m \u001b[38;5;21;01mlangchain_community\u001b[39;00m\u001b[38;5;21;01m.\u001b[39;00m\u001b[38;5;21;01mdocument_loaders\u001b[39;00m\u001b[38;5;21;01m.\u001b[39;00m\u001b[38;5;21;01mpebblo\u001b[39;00m \u001b[38;5;28;01mimport\u001b[39;00m PebbloSafeLoader\n\u001b[0;32m    164\u001b[0m \u001b[38;5;28;01mfrom\u001b[39;00m \u001b[38;5;21;01mlangchain_community\u001b[39;00m\u001b[38;5;21;01m.\u001b[39;00m\u001b[38;5;21;01mdocument_loaders\u001b[39;00m\u001b[38;5;21;01m.\u001b[39;00m\u001b[38;5;21;01mpolars_dataframe\u001b[39;00m \u001b[38;5;28;01mimport\u001b[39;00m PolarsDataFrameLoader\n\u001b[0;32m    165\u001b[0m \u001b[38;5;28;01mfrom\u001b[39;00m \u001b[38;5;21;01mlangchain_community\u001b[39;00m\u001b[38;5;21;01m.\u001b[39;00m\u001b[38;5;21;01mdocument_loaders\u001b[39;00m\u001b[38;5;21;01m.\u001b[39;00m\u001b[38;5;21;01mpowerpoint\u001b[39;00m \u001b[38;5;28;01mimport\u001b[39;00m UnstructuredPowerPointLoader\n",
      "File \u001b[1;32m~\\anaconda3\\Lib\\site-packages\\langchain_community\\document_loaders\\pebblo.py:5\u001b[0m\n\u001b[0;32m      3\u001b[0m \u001b[38;5;28;01mimport\u001b[39;00m \u001b[38;5;21;01mlogging\u001b[39;00m\n\u001b[0;32m      4\u001b[0m \u001b[38;5;28;01mimport\u001b[39;00m \u001b[38;5;21;01mos\u001b[39;00m\n\u001b[1;32m----> 5\u001b[0m \u001b[38;5;28;01mimport\u001b[39;00m \u001b[38;5;21;01mpwd\u001b[39;00m\n\u001b[0;32m      6\u001b[0m \u001b[38;5;28;01mimport\u001b[39;00m \u001b[38;5;21;01muuid\u001b[39;00m\n\u001b[0;32m      7\u001b[0m \u001b[38;5;28;01mfrom\u001b[39;00m \u001b[38;5;21;01mhttp\u001b[39;00m \u001b[38;5;28;01mimport\u001b[39;00m HTTPStatus\n",
      "\u001b[1;31mModuleNotFoundError\u001b[0m: No module named 'pwd'"
     ]
    }
   ],
   "source": [
    "from langchain.document_loaders import TextLoader"
   ]
  },
  {
   "cell_type": "code",
   "execution_count": 2,
   "id": "684689af",
   "metadata": {},
   "outputs": [
    {
     "name": "stdout",
     "output_type": "stream",
     "text": [
      "Note: you may need to restart the kernel to use updated packages.\n"
     ]
    },
    {
     "name": "stderr",
     "output_type": "stream",
     "text": [
      "ERROR: Could not find a version that satisfies the requirement pwd (from versions: none)\n",
      "ERROR: No matching distribution found for pwd\n"
     ]
    }
   ],
   "source": [
    "pip install pwd"
   ]
  },
  {
   "cell_type": "code",
   "execution_count": 3,
   "id": "9b707c7a",
   "metadata": {},
   "outputs": [
    {
     "name": "stdout",
     "output_type": "stream",
     "text": [
      "Requirement already satisfied: langchain in c:\\users\\deepu\\anaconda3\\lib\\site-packages (0.1.7)\n",
      "Requirement already satisfied: PyYAML>=5.3 in c:\\users\\deepu\\anaconda3\\lib\\site-packages (from langchain) (6.0)\n",
      "Requirement already satisfied: SQLAlchemy<3,>=1.4 in c:\\users\\deepu\\anaconda3\\lib\\site-packages (from langchain) (1.4.39)\n",
      "Requirement already satisfied: aiohttp<4.0.0,>=3.8.3 in c:\\users\\deepu\\anaconda3\\lib\\site-packages (from langchain) (3.8.5)\n",
      "Requirement already satisfied: dataclasses-json<0.7,>=0.5.7 in c:\\users\\deepu\\anaconda3\\lib\\site-packages (from langchain) (0.6.4)\n",
      "Requirement already satisfied: jsonpatch<2.0,>=1.33 in c:\\users\\deepu\\anaconda3\\lib\\site-packages (from langchain) (1.33)\n",
      "Requirement already satisfied: langchain-community<0.1,>=0.0.20 in c:\\users\\deepu\\anaconda3\\lib\\site-packages (from langchain) (0.0.20)\n",
      "Requirement already satisfied: langchain-core<0.2,>=0.1.22 in c:\\users\\deepu\\anaconda3\\lib\\site-packages (from langchain) (0.1.23)\n",
      "Requirement already satisfied: langsmith<0.1,>=0.0.83 in c:\\users\\deepu\\anaconda3\\lib\\site-packages (from langchain) (0.0.87)\n",
      "Requirement already satisfied: numpy<2,>=1 in c:\\users\\deepu\\anaconda3\\lib\\site-packages (from langchain) (1.24.3)\n",
      "Requirement already satisfied: pydantic<3,>=1 in c:\\users\\deepu\\anaconda3\\lib\\site-packages (from langchain) (1.10.8)\n",
      "Requirement already satisfied: requests<3,>=2 in c:\\users\\deepu\\anaconda3\\lib\\site-packages (from langchain) (2.31.0)\n",
      "Requirement already satisfied: tenacity<9.0.0,>=8.1.0 in c:\\users\\deepu\\anaconda3\\lib\\site-packages (from langchain) (8.2.2)\n",
      "Requirement already satisfied: attrs>=17.3.0 in c:\\users\\deepu\\anaconda3\\lib\\site-packages (from aiohttp<4.0.0,>=3.8.3->langchain) (22.1.0)\n",
      "Requirement already satisfied: charset-normalizer<4.0,>=2.0 in c:\\users\\deepu\\anaconda3\\lib\\site-packages (from aiohttp<4.0.0,>=3.8.3->langchain) (2.0.4)\n",
      "Requirement already satisfied: multidict<7.0,>=4.5 in c:\\users\\deepu\\anaconda3\\lib\\site-packages (from aiohttp<4.0.0,>=3.8.3->langchain) (6.0.2)\n",
      "Requirement already satisfied: async-timeout<5.0,>=4.0.0a3 in c:\\users\\deepu\\anaconda3\\lib\\site-packages (from aiohttp<4.0.0,>=3.8.3->langchain) (4.0.2)\n",
      "Requirement already satisfied: yarl<2.0,>=1.0 in c:\\users\\deepu\\anaconda3\\lib\\site-packages (from aiohttp<4.0.0,>=3.8.3->langchain) (1.8.1)\n",
      "Requirement already satisfied: frozenlist>=1.1.1 in c:\\users\\deepu\\anaconda3\\lib\\site-packages (from aiohttp<4.0.0,>=3.8.3->langchain) (1.3.3)\n",
      "Requirement already satisfied: aiosignal>=1.1.2 in c:\\users\\deepu\\anaconda3\\lib\\site-packages (from aiohttp<4.0.0,>=3.8.3->langchain) (1.2.0)\n",
      "Requirement already satisfied: marshmallow<4.0.0,>=3.18.0 in c:\\users\\deepu\\anaconda3\\lib\\site-packages (from dataclasses-json<0.7,>=0.5.7->langchain) (3.20.2)\n",
      "Requirement already satisfied: typing-inspect<1,>=0.4.0 in c:\\users\\deepu\\anaconda3\\lib\\site-packages (from dataclasses-json<0.7,>=0.5.7->langchain) (0.9.0)\n",
      "Requirement already satisfied: jsonpointer>=1.9 in c:\\users\\deepu\\anaconda3\\lib\\site-packages (from jsonpatch<2.0,>=1.33->langchain) (2.1)\n",
      "Requirement already satisfied: anyio<5,>=3 in c:\\users\\deepu\\anaconda3\\lib\\site-packages (from langchain-core<0.2,>=0.1.22->langchain) (3.5.0)\n",
      "Requirement already satisfied: packaging<24.0,>=23.2 in c:\\users\\deepu\\anaconda3\\lib\\site-packages (from langchain-core<0.2,>=0.1.22->langchain) (23.2)\n",
      "Requirement already satisfied: typing-extensions>=4.2.0 in c:\\users\\deepu\\anaconda3\\lib\\site-packages (from pydantic<3,>=1->langchain) (4.7.1)\n",
      "Requirement already satisfied: idna<4,>=2.5 in c:\\users\\deepu\\anaconda3\\lib\\site-packages (from requests<3,>=2->langchain) (3.4)\n",
      "Requirement already satisfied: urllib3<3,>=1.21.1 in c:\\users\\deepu\\anaconda3\\lib\\site-packages (from requests<3,>=2->langchain) (1.26.16)\n",
      "Requirement already satisfied: certifi>=2017.4.17 in c:\\users\\deepu\\anaconda3\\lib\\site-packages (from requests<3,>=2->langchain) (2023.7.22)\n",
      "Requirement already satisfied: greenlet!=0.4.17 in c:\\users\\deepu\\anaconda3\\lib\\site-packages (from SQLAlchemy<3,>=1.4->langchain) (2.0.1)\n",
      "Requirement already satisfied: sniffio>=1.1 in c:\\users\\deepu\\anaconda3\\lib\\site-packages (from anyio<5,>=3->langchain-core<0.2,>=0.1.22->langchain) (1.2.0)\n",
      "Requirement already satisfied: mypy-extensions>=0.3.0 in c:\\users\\deepu\\anaconda3\\lib\\site-packages (from typing-inspect<1,>=0.4.0->dataclasses-json<0.7,>=0.5.7->langchain) (1.0.0)\n",
      "Note: you may need to restart the kernel to use updated packages.\n"
     ]
    }
   ],
   "source": [
    " pip install langchain"
   ]
  },
  {
   "cell_type": "code",
   "execution_count": 4,
   "id": "45e150b7",
   "metadata": {},
   "outputs": [
    {
     "name": "stdout",
     "output_type": "stream",
     "text": [
      "Requirement already satisfied: langchain in c:\\users\\deepu\\anaconda3\\lib\\site-packages (0.1.7)\n",
      "Requirement already satisfied: PyYAML>=5.3 in c:\\users\\deepu\\anaconda3\\lib\\site-packages (from langchain) (6.0)\n",
      "Requirement already satisfied: SQLAlchemy<3,>=1.4 in c:\\users\\deepu\\anaconda3\\lib\\site-packages (from langchain) (1.4.39)\n",
      "Requirement already satisfied: aiohttp<4.0.0,>=3.8.3 in c:\\users\\deepu\\anaconda3\\lib\\site-packages (from langchain) (3.8.5)\n",
      "Requirement already satisfied: dataclasses-json<0.7,>=0.5.7 in c:\\users\\deepu\\anaconda3\\lib\\site-packages (from langchain) (0.6.4)\n",
      "Requirement already satisfied: jsonpatch<2.0,>=1.33 in c:\\users\\deepu\\anaconda3\\lib\\site-packages (from langchain) (1.33)\n",
      "Requirement already satisfied: langchain-community<0.1,>=0.0.20 in c:\\users\\deepu\\anaconda3\\lib\\site-packages (from langchain) (0.0.20)\n",
      "Requirement already satisfied: langchain-core<0.2,>=0.1.22 in c:\\users\\deepu\\anaconda3\\lib\\site-packages (from langchain) (0.1.23)\n",
      "Requirement already satisfied: langsmith<0.1,>=0.0.83 in c:\\users\\deepu\\anaconda3\\lib\\site-packages (from langchain) (0.0.87)\n",
      "Requirement already satisfied: numpy<2,>=1 in c:\\users\\deepu\\anaconda3\\lib\\site-packages (from langchain) (1.24.3)\n",
      "Requirement already satisfied: pydantic<3,>=1 in c:\\users\\deepu\\anaconda3\\lib\\site-packages (from langchain) (1.10.8)\n",
      "Requirement already satisfied: requests<3,>=2 in c:\\users\\deepu\\anaconda3\\lib\\site-packages (from langchain) (2.31.0)\n",
      "Requirement already satisfied: tenacity<9.0.0,>=8.1.0 in c:\\users\\deepu\\anaconda3\\lib\\site-packages (from langchain) (8.2.2)\n",
      "Requirement already satisfied: attrs>=17.3.0 in c:\\users\\deepu\\anaconda3\\lib\\site-packages (from aiohttp<4.0.0,>=3.8.3->langchain) (22.1.0)\n",
      "Requirement already satisfied: charset-normalizer<4.0,>=2.0 in c:\\users\\deepu\\anaconda3\\lib\\site-packages (from aiohttp<4.0.0,>=3.8.3->langchain) (2.0.4)\n",
      "Requirement already satisfied: multidict<7.0,>=4.5 in c:\\users\\deepu\\anaconda3\\lib\\site-packages (from aiohttp<4.0.0,>=3.8.3->langchain) (6.0.2)\n",
      "Requirement already satisfied: async-timeout<5.0,>=4.0.0a3 in c:\\users\\deepu\\anaconda3\\lib\\site-packages (from aiohttp<4.0.0,>=3.8.3->langchain) (4.0.2)\n",
      "Requirement already satisfied: yarl<2.0,>=1.0 in c:\\users\\deepu\\anaconda3\\lib\\site-packages (from aiohttp<4.0.0,>=3.8.3->langchain) (1.8.1)\n",
      "Requirement already satisfied: frozenlist>=1.1.1 in c:\\users\\deepu\\anaconda3\\lib\\site-packages (from aiohttp<4.0.0,>=3.8.3->langchain) (1.3.3)\n",
      "Requirement already satisfied: aiosignal>=1.1.2 in c:\\users\\deepu\\anaconda3\\lib\\site-packages (from aiohttp<4.0.0,>=3.8.3->langchain) (1.2.0)\n",
      "Requirement already satisfied: marshmallow<4.0.0,>=3.18.0 in c:\\users\\deepu\\anaconda3\\lib\\site-packages (from dataclasses-json<0.7,>=0.5.7->langchain) (3.20.2)\n",
      "Requirement already satisfied: typing-inspect<1,>=0.4.0 in c:\\users\\deepu\\anaconda3\\lib\\site-packages (from dataclasses-json<0.7,>=0.5.7->langchain) (0.9.0)\n",
      "Requirement already satisfied: jsonpointer>=1.9 in c:\\users\\deepu\\anaconda3\\lib\\site-packages (from jsonpatch<2.0,>=1.33->langchain) (2.1)\n",
      "Requirement already satisfied: anyio<5,>=3 in c:\\users\\deepu\\anaconda3\\lib\\site-packages (from langchain-core<0.2,>=0.1.22->langchain) (3.5.0)\n",
      "Requirement already satisfied: packaging<24.0,>=23.2 in c:\\users\\deepu\\anaconda3\\lib\\site-packages (from langchain-core<0.2,>=0.1.22->langchain) (23.2)\n",
      "Requirement already satisfied: typing-extensions>=4.2.0 in c:\\users\\deepu\\anaconda3\\lib\\site-packages (from pydantic<3,>=1->langchain) (4.7.1)\n",
      "Requirement already satisfied: idna<4,>=2.5 in c:\\users\\deepu\\anaconda3\\lib\\site-packages (from requests<3,>=2->langchain) (3.4)\n",
      "Requirement already satisfied: urllib3<3,>=1.21.1 in c:\\users\\deepu\\anaconda3\\lib\\site-packages (from requests<3,>=2->langchain) (1.26.16)\n",
      "Requirement already satisfied: certifi>=2017.4.17 in c:\\users\\deepu\\anaconda3\\lib\\site-packages (from requests<3,>=2->langchain) (2023.7.22)\n",
      "Requirement already satisfied: greenlet!=0.4.17 in c:\\users\\deepu\\anaconda3\\lib\\site-packages (from SQLAlchemy<3,>=1.4->langchain) (2.0.1)\n",
      "Requirement already satisfied: sniffio>=1.1 in c:\\users\\deepu\\anaconda3\\lib\\site-packages (from anyio<5,>=3->langchain-core<0.2,>=0.1.22->langchain) (1.2.0)\n",
      "Requirement already satisfied: mypy-extensions>=0.3.0 in c:\\users\\deepu\\anaconda3\\lib\\site-packages (from typing-inspect<1,>=0.4.0->dataclasses-json<0.7,>=0.5.7->langchain) (1.0.0)\n",
      "Note: you may need to restart the kernel to use updated packages.\n"
     ]
    }
   ],
   "source": [
    "pip install --upgrade langchain"
   ]
  },
  {
   "cell_type": "code",
   "execution_count": 5,
   "id": "ccddd9be",
   "metadata": {},
   "outputs": [
    {
     "name": "stdout",
     "output_type": "stream",
     "text": [
      "['C:\\\\Users\\\\deepu\\\\Downloads\\\\langchain-main', 'C:\\\\Users\\\\deepu\\\\anaconda3\\\\python311.zip', 'C:\\\\Users\\\\deepu\\\\anaconda3\\\\DLLs', 'C:\\\\Users\\\\deepu\\\\anaconda3\\\\Lib', 'C:\\\\Users\\\\deepu\\\\anaconda3', '', 'C:\\\\Users\\\\deepu\\\\anaconda3\\\\Lib\\\\site-packages', 'C:\\\\Users\\\\deepu\\\\anaconda3\\\\Lib\\\\site-packages\\\\win32', 'C:\\\\Users\\\\deepu\\\\anaconda3\\\\Lib\\\\site-packages\\\\win32\\\\lib', 'C:\\\\Users\\\\deepu\\\\anaconda3\\\\Lib\\\\site-packages\\\\Pythonwin']\n"
     ]
    }
   ],
   "source": [
    "import sys\n",
    "print(sys.path)"
   ]
  },
  {
   "cell_type": "code",
   "execution_count": 6,
   "id": "beaeae04",
   "metadata": {},
   "outputs": [
    {
     "ename": "ModuleNotFoundError",
     "evalue": "No module named 'langchain.loaders'",
     "output_type": "error",
     "traceback": [
      "\u001b[1;31m---------------------------------------------------------------------------\u001b[0m",
      "\u001b[1;31mModuleNotFoundError\u001b[0m                       Traceback (most recent call last)",
      "Cell \u001b[1;32mIn[6], line 1\u001b[0m\n\u001b[1;32m----> 1\u001b[0m \u001b[38;5;28;01mfrom\u001b[39;00m \u001b[38;5;21;01mlangchain\u001b[39;00m\u001b[38;5;21;01m.\u001b[39;00m\u001b[38;5;21;01mloaders\u001b[39;00m \u001b[38;5;28;01mimport\u001b[39;00m DirectoryLoader\n",
      "\u001b[1;31mModuleNotFoundError\u001b[0m: No module named 'langchain.loaders'"
     ]
    }
   ],
   "source": [
    "from langchain.loaders import DirectoryLoader"
   ]
  },
  {
   "cell_type": "code",
   "execution_count": 1,
   "id": "665244c9",
   "metadata": {},
   "outputs": [
    {
     "name": "stdout",
     "output_type": "stream",
     "text": [
      "Note: you may need to restart the kernel to use updated packages.\n"
     ]
    },
    {
     "name": "stderr",
     "output_type": "stream",
     "text": [
      "ERROR: Could not find a version that satisfies the requirement langchain.loaders (from versions: none)\n",
      "ERROR: No matching distribution found for langchain.loaders\n"
     ]
    }
   ],
   "source": [
    "pip install langchain.loaders"
   ]
  },
  {
   "cell_type": "code",
   "execution_count": 1,
   "id": "43b7ccd4",
   "metadata": {},
   "outputs": [
    {
     "name": "stdout",
     "output_type": "stream",
     "text": [
      "Note: you may need to restart the kernel to use updated packages.\n"
     ]
    },
    {
     "name": "stderr",
     "output_type": "stream",
     "text": [
      "ERROR: Could not open requirements file: [Errno 2] No such file or directory: 'requirements.txt'\n"
     ]
    }
   ],
   "source": [
    "pip install -r requirements.txt"
   ]
  },
  {
   "cell_type": "code",
   "execution_count": 1,
   "id": "da50049c",
   "metadata": {},
   "outputs": [
    {
     "name": "stdout",
     "output_type": "stream",
     "text": [
      "Note: you may need to restart the kernel to use updated packages.\n"
     ]
    },
    {
     "name": "stderr",
     "output_type": "stream",
     "text": [
      "WARNING: Retrying (Retry(total=4, connect=None, read=None, redirect=None, status=None)) after connection broken by 'ReadTimeoutError(\"HTTPSConnectionPool(host='pypi.org', port=443): Read timed out. (read timeout=15)\")': /simple/pwd/\n",
      "ERROR: Could not find a version that satisfies the requirement pwd (from versions: none)\n",
      "ERROR: No matching distribution found for pwd\n"
     ]
    }
   ],
   "source": [
    " pip install pwd"
   ]
  },
  {
   "cell_type": "code",
   "execution_count": 2,
   "id": "d7f6fd62",
   "metadata": {},
   "outputs": [
    {
     "ename": "ModuleNotFoundError",
     "evalue": "No module named 'langchain.loaders'",
     "output_type": "error",
     "traceback": [
      "\u001b[1;31m---------------------------------------------------------------------------\u001b[0m",
      "\u001b[1;31mModuleNotFoundError\u001b[0m                       Traceback (most recent call last)",
      "Cell \u001b[1;32mIn[2], line 1\u001b[0m\n\u001b[1;32m----> 1\u001b[0m \u001b[38;5;28;01mfrom\u001b[39;00m \u001b[38;5;21;01mlangchain\u001b[39;00m\u001b[38;5;21;01m.\u001b[39;00m\u001b[38;5;21;01mloaders\u001b[39;00m \u001b[38;5;28;01mimport\u001b[39;00m DirectoryLoader\n",
      "\u001b[1;31mModuleNotFoundError\u001b[0m: No module named 'langchain.loaders'"
     ]
    }
   ],
   "source": [
    "from langchain.loaders import DirectoryLoader"
   ]
  },
  {
   "cell_type": "code",
   "execution_count": 2,
   "id": "3ec0a944",
   "metadata": {},
   "outputs": [
    {
     "name": "stdout",
     "output_type": "stream",
     "text": [
      "Requirement already satisfied: langchain in c:\\users\\deepu\\anaconda3\\lib\\site-packages (0.1.7)\n",
      "Collecting langchain\n",
      "  Obtaining dependency information for langchain from https://files.pythonhosted.org/packages/87/8b/d859c3125fc27e678f7da3625894d3d84e6599ef85f1559c1fc5b9c913ad/langchain-0.1.8-py3-none-any.whl.metadata\n",
      "  Downloading langchain-0.1.8-py3-none-any.whl.metadata (13 kB)\n",
      "Requirement already satisfied: PyYAML>=5.3 in c:\\users\\deepu\\anaconda3\\lib\\site-packages (from langchain) (6.0)\n",
      "Requirement already satisfied: SQLAlchemy<3,>=1.4 in c:\\users\\deepu\\anaconda3\\lib\\site-packages (from langchain) (1.4.39)\n",
      "Requirement already satisfied: aiohttp<4.0.0,>=3.8.3 in c:\\users\\deepu\\anaconda3\\lib\\site-packages (from langchain) (3.8.5)\n",
      "Requirement already satisfied: dataclasses-json<0.7,>=0.5.7 in c:\\users\\deepu\\anaconda3\\lib\\site-packages (from langchain) (0.6.4)\n",
      "Requirement already satisfied: jsonpatch<2.0,>=1.33 in c:\\users\\deepu\\anaconda3\\lib\\site-packages (from langchain) (1.33)\n",
      "Collecting langchain-community<0.1,>=0.0.21 (from langchain)\n",
      "  Obtaining dependency information for langchain-community<0.1,>=0.0.21 from https://files.pythonhosted.org/packages/2f/39/e4998914febe29c91953ab8c50fe793ca6e2780f4744e92a83ad261bf637/langchain_community-0.0.21-py3-none-any.whl.metadata\n",
      "  Downloading langchain_community-0.0.21-py3-none-any.whl.metadata (8.1 kB)\n",
      "Collecting langchain-core<0.2,>=0.1.24 (from langchain)\n",
      "  Obtaining dependency information for langchain-core<0.2,>=0.1.24 from https://files.pythonhosted.org/packages/a4/cc/ff9b7afd637d44a3e33d14d37b6fabd80638702aa0c0afe6f47d3b28cbfd/langchain_core-0.1.24-py3-none-any.whl.metadata\n",
      "  Downloading langchain_core-0.1.24-py3-none-any.whl.metadata (6.0 kB)\n",
      "Collecting langsmith<0.2.0,>=0.1.0 (from langchain)\n",
      "  Obtaining dependency information for langsmith<0.2.0,>=0.1.0 from https://files.pythonhosted.org/packages/45/d1/44266f48b49f5b3cd0b006b22a67f406fff74b3f507d87d05c0ba0ec294f/langsmith-0.1.2-py3-none-any.whl.metadata\n",
      "  Downloading langsmith-0.1.2-py3-none-any.whl.metadata (13 kB)\n",
      "Requirement already satisfied: numpy<2,>=1 in c:\\users\\deepu\\anaconda3\\lib\\site-packages (from langchain) (1.24.3)\n",
      "Requirement already satisfied: pydantic<3,>=1 in c:\\users\\deepu\\anaconda3\\lib\\site-packages (from langchain) (1.10.8)\n",
      "Requirement already satisfied: requests<3,>=2 in c:\\users\\deepu\\anaconda3\\lib\\site-packages (from langchain) (2.31.0)\n",
      "Requirement already satisfied: tenacity<9.0.0,>=8.1.0 in c:\\users\\deepu\\anaconda3\\lib\\site-packages (from langchain) (8.2.2)\n",
      "Requirement already satisfied: attrs>=17.3.0 in c:\\users\\deepu\\anaconda3\\lib\\site-packages (from aiohttp<4.0.0,>=3.8.3->langchain) (22.1.0)\n",
      "Requirement already satisfied: charset-normalizer<4.0,>=2.0 in c:\\users\\deepu\\anaconda3\\lib\\site-packages (from aiohttp<4.0.0,>=3.8.3->langchain) (2.0.4)\n",
      "Requirement already satisfied: multidict<7.0,>=4.5 in c:\\users\\deepu\\anaconda3\\lib\\site-packages (from aiohttp<4.0.0,>=3.8.3->langchain) (6.0.2)\n",
      "Requirement already satisfied: async-timeout<5.0,>=4.0.0a3 in c:\\users\\deepu\\anaconda3\\lib\\site-packages (from aiohttp<4.0.0,>=3.8.3->langchain) (4.0.2)\n",
      "Requirement already satisfied: yarl<2.0,>=1.0 in c:\\users\\deepu\\anaconda3\\lib\\site-packages (from aiohttp<4.0.0,>=3.8.3->langchain) (1.8.1)\n",
      "Requirement already satisfied: frozenlist>=1.1.1 in c:\\users\\deepu\\anaconda3\\lib\\site-packages (from aiohttp<4.0.0,>=3.8.3->langchain) (1.3.3)\n",
      "Requirement already satisfied: aiosignal>=1.1.2 in c:\\users\\deepu\\anaconda3\\lib\\site-packages (from aiohttp<4.0.0,>=3.8.3->langchain) (1.2.0)\n",
      "Requirement already satisfied: marshmallow<4.0.0,>=3.18.0 in c:\\users\\deepu\\anaconda3\\lib\\site-packages (from dataclasses-json<0.7,>=0.5.7->langchain) (3.20.2)\n",
      "Requirement already satisfied: typing-inspect<1,>=0.4.0 in c:\\users\\deepu\\anaconda3\\lib\\site-packages (from dataclasses-json<0.7,>=0.5.7->langchain) (0.9.0)\n",
      "Requirement already satisfied: jsonpointer>=1.9 in c:\\users\\deepu\\anaconda3\\lib\\site-packages (from jsonpatch<2.0,>=1.33->langchain) (2.1)\n",
      "Requirement already satisfied: anyio<5,>=3 in c:\\users\\deepu\\anaconda3\\lib\\site-packages (from langchain-core<0.2,>=0.1.24->langchain) (3.5.0)\n",
      "Requirement already satisfied: packaging<24.0,>=23.2 in c:\\users\\deepu\\anaconda3\\lib\\site-packages (from langchain-core<0.2,>=0.1.24->langchain) (23.2)\n",
      "Requirement already satisfied: typing-extensions>=4.2.0 in c:\\users\\deepu\\anaconda3\\lib\\site-packages (from pydantic<3,>=1->langchain) (4.7.1)\n",
      "Requirement already satisfied: idna<4,>=2.5 in c:\\users\\deepu\\anaconda3\\lib\\site-packages (from requests<3,>=2->langchain) (3.4)\n",
      "Requirement already satisfied: urllib3<3,>=1.21.1 in c:\\users\\deepu\\anaconda3\\lib\\site-packages (from requests<3,>=2->langchain) (1.26.16)\n",
      "Requirement already satisfied: certifi>=2017.4.17 in c:\\users\\deepu\\anaconda3\\lib\\site-packages (from requests<3,>=2->langchain) (2023.7.22)\n",
      "Requirement already satisfied: greenlet!=0.4.17 in c:\\users\\deepu\\anaconda3\\lib\\site-packages (from SQLAlchemy<3,>=1.4->langchain) (2.0.1)\n",
      "Requirement already satisfied: sniffio>=1.1 in c:\\users\\deepu\\anaconda3\\lib\\site-packages (from anyio<5,>=3->langchain-core<0.2,>=0.1.24->langchain) (1.2.0)\n",
      "Requirement already satisfied: mypy-extensions>=0.3.0 in c:\\users\\deepu\\anaconda3\\lib\\site-packages (from typing-inspect<1,>=0.4.0->dataclasses-json<0.7,>=0.5.7->langchain) (1.0.0)\n",
      "Downloading langchain-0.1.8-py3-none-any.whl (816 kB)\n",
      "   ---------------------------------------- 0.0/816.1 kB ? eta -:--:--\n",
      "   ---------------------------------------- 0.0/816.1 kB ? eta -:--:--\n",
      "   ---------------------------------------- 0.0/816.1 kB ? eta -:--:--\n",
      "   ---------------------------------------- 0.0/816.1 kB ? eta -:--:--\n",
      "   ---------------------------------------- 0.0/816.1 kB ? eta -:--:--\n",
      "   ---------------------------------------- 0.0/816.1 kB ? eta -:--:--\n",
      "   ---------------------------------------- 0.0/816.1 kB ? eta -:--:--\n",
      "   ---------------------------------------- 0.0/816.1 kB ? eta -:--:--\n",
      "   ---------------------------------------- 0.0/816.1 kB ? eta -:--:--\n",
      "   ---------------------------------------- 0.0/816.1 kB ? eta -:--:--\n",
      "    --------------------------------------- 10.2/816.1 kB ? eta -:--:--\n",
      "    --------------------------------------- 10.2/816.1 kB ? eta -:--:--\n",
      "    --------------------------------------- 10.2/816.1 kB ? eta -:--:--\n",
      "    --------------------------------------- 10.2/816.1 kB ? eta -:--:--\n",
      "    --------------------------------------- 10.2/816.1 kB ? eta -:--:--\n",
      "    --------------------------------------- 10.2/816.1 kB ? eta -:--:--\n",
      "    --------------------------------------- 10.2/816.1 kB ? eta -:--:--\n",
      "    --------------------------------------- 10.2/816.1 kB ? eta -:--:--\n",
      "   - -------------------------------------- 30.7/816.1 kB 62.4 kB/s eta 0:00:13\n",
      "   - -------------------------------------- 30.7/816.1 kB 62.4 kB/s eta 0:00:13\n",
      "   - -------------------------------------- 30.7/816.1 kB 62.4 kB/s eta 0:00:13\n",
      "   - -------------------------------------- 30.7/816.1 kB 62.4 kB/s eta 0:00:13\n",
      "   - -------------------------------------- 30.7/816.1 kB 62.4 kB/s eta 0:00:13\n",
      "   -- ------------------------------------- 41.0/816.1 kB 57.9 kB/s eta 0:00:14\n",
      "   -- ------------------------------------- 41.0/816.1 kB 57.9 kB/s eta 0:00:14\n",
      "   --- ------------------------------------ 61.4/816.1 kB 84.1 kB/s eta 0:00:09\n",
      "   --- ------------------------------------ 61.4/816.1 kB 84.1 kB/s eta 0:00:09\n",
      "   --- ------------------------------------ 61.4/816.1 kB 84.1 kB/s eta 0:00:09\n",
      "   --- ------------------------------------ 61.4/816.1 kB 84.1 kB/s eta 0:00:09\n",
      "   --- ------------------------------------ 61.4/816.1 kB 84.1 kB/s eta 0:00:09\n",
      "   --- ------------------------------------ 61.4/816.1 kB 84.1 kB/s eta 0:00:09\n",
      "   --- ------------------------------------ 61.4/816.1 kB 84.1 kB/s eta 0:00:09\n",
      "   --- ------------------------------------ 61.4/816.1 kB 84.1 kB/s eta 0:00:09\n",
      "   ---- ----------------------------------- 81.9/816.1 kB 74.0 kB/s eta 0:00:10\n",
      "   ---- ----------------------------------- 81.9/816.1 kB 74.0 kB/s eta 0:00:10\n",
      "   ---- ----------------------------------- 81.9/816.1 kB 74.0 kB/s eta 0:00:10\n",
      "   ---- ----------------------------------- 81.9/816.1 kB 74.0 kB/s eta 0:00:10\n",
      "   ---- ----------------------------------- 81.9/816.1 kB 74.0 kB/s eta 0:00:10\n",
      "   ---- ----------------------------------- 92.2/816.1 kB 69.9 kB/s eta 0:00:11\n",
      "   ---- ----------------------------------- 92.2/816.1 kB 69.9 kB/s eta 0:00:11\n",
      "   ---- ----------------------------------- 92.2/816.1 kB 69.9 kB/s eta 0:00:11\n",
      "   ---- ----------------------------------- 92.2/816.1 kB 69.9 kB/s eta 0:00:11\n",
      "   ----- --------------------------------- 112.6/816.1 kB 75.3 kB/s eta 0:00:10\n",
      "   ----- --------------------------------- 112.6/816.1 kB 75.3 kB/s eta 0:00:10\n",
      "   ----- --------------------------------- 112.6/816.1 kB 75.3 kB/s eta 0:00:10\n",
      "   ----- --------------------------------- 112.6/816.1 kB 75.3 kB/s eta 0:00:10\n",
      "   ----- --------------------------------- 122.9/816.1 kB 72.8 kB/s eta 0:00:10\n",
      "   ------ -------------------------------- 143.4/816.1 kB 84.4 kB/s eta 0:00:08\n",
      "   ------ -------------------------------- 143.4/816.1 kB 84.4 kB/s eta 0:00:08\n",
      "   ------ -------------------------------- 143.4/816.1 kB 84.4 kB/s eta 0:00:08\n",
      "   ------ -------------------------------- 143.4/816.1 kB 84.4 kB/s eta 0:00:08\n",
      "   ------ -------------------------------- 143.4/816.1 kB 84.4 kB/s eta 0:00:08\n",
      "   ------ -------------------------------- 143.4/816.1 kB 84.4 kB/s eta 0:00:08\n",
      "   ------ -------------------------------- 143.4/816.1 kB 84.4 kB/s eta 0:00:08\n",
      "   ------ -------------------------------- 143.4/816.1 kB 84.4 kB/s eta 0:00:08\n",
      "   ------ -------------------------------- 143.4/816.1 kB 84.4 kB/s eta 0:00:08\n",
      "   ------ -------------------------------- 143.4/816.1 kB 84.4 kB/s eta 0:00:08\n",
      "   ------- ------------------------------- 163.8/816.1 kB 75.6 kB/s eta 0:00:09\n",
      "   ------- ------------------------------- 163.8/816.1 kB 75.6 kB/s eta 0:00:09\n",
      "   -------- ------------------------------ 174.1/816.1 kB 76.6 kB/s eta 0:00:09\n",
      "   -------- ------------------------------ 174.1/816.1 kB 76.6 kB/s eta 0:00:09\n",
      "   -------- ------------------------------ 174.1/816.1 kB 76.6 kB/s eta 0:00:09\n",
      "   -------- ------------------------------ 174.1/816.1 kB 76.6 kB/s eta 0:00:09\n",
      "   --------- ----------------------------- 194.6/816.1 kB 80.8 kB/s eta 0:00:08\n",
      "   --------- ----------------------------- 194.6/816.1 kB 80.8 kB/s eta 0:00:08\n",
      "   --------- ----------------------------- 194.6/816.1 kB 80.8 kB/s eta 0:00:08\n",
      "   --------- ----------------------------- 194.6/816.1 kB 80.8 kB/s eta 0:00:08\n",
      "   --------- ----------------------------- 204.8/816.1 kB 78.8 kB/s eta 0:00:08\n",
      "   --------- ----------------------------- 204.8/816.1 kB 78.8 kB/s eta 0:00:08\n",
      "   --------- ----------------------------- 204.8/816.1 kB 78.8 kB/s eta 0:00:08\n",
      "   --------- ----------------------------- 204.8/816.1 kB 78.8 kB/s eta 0:00:08\n",
      "   --------- ----------------------------- 204.8/816.1 kB 78.8 kB/s eta 0:00:08\n",
      "   ---------- ---------------------------- 225.3/816.1 kB 80.0 kB/s eta 0:00:08\n",
      "   ---------- ---------------------------- 225.3/816.1 kB 80.0 kB/s eta 0:00:08\n",
      "   ----------- --------------------------- 245.8/816.1 kB 84.7 kB/s eta 0:00:07\n",
      "   ------------ -------------------------- 256.0/816.1 kB 86.9 kB/s eta 0:00:07\n",
      "   ------------ -------------------------- 256.0/816.1 kB 86.9 kB/s eta 0:00:07\n",
      "   ------------ -------------------------- 256.0/816.1 kB 86.9 kB/s eta 0:00:07\n",
      "   ------------- ------------------------- 276.5/816.1 kB 89.7 kB/s eta 0:00:07\n",
      "   ------------- ------------------------- 276.5/816.1 kB 89.7 kB/s eta 0:00:07\n",
      "   ------------- ------------------------- 276.5/816.1 kB 89.7 kB/s eta 0:00:07\n",
      "   ------------- ------------------------- 276.5/816.1 kB 89.7 kB/s eta 0:00:07\n",
      "   ------------- ------------------------- 286.7/816.1 kB 87.6 kB/s eta 0:00:07\n",
      "   -------------- ------------------------ 307.2/816.1 kB 93.2 kB/s eta 0:00:06\n",
      "   -------------- ------------------------ 307.2/816.1 kB 93.2 kB/s eta 0:00:06\n",
      "   -------------- ------------------------ 307.2/816.1 kB 93.2 kB/s eta 0:00:06\n",
      "   --------------- ----------------------- 327.7/816.1 kB 95.8 kB/s eta 0:00:06\n",
      "   ---------------- ---------------------- 337.9/816.1 kB 97.6 kB/s eta 0:00:05\n",
      "   ---------------- --------------------- 358.4/816.1 kB 102.2 kB/s eta 0:00:05\n",
      "   ---------------- --------------------- 358.4/816.1 kB 102.2 kB/s eta 0:00:05\n",
      "   ------------------ ------------------- 389.1/816.1 kB 108.7 kB/s eta 0:00:04\n",
      "   ------------------- ------------------ 419.8/816.1 kB 115.5 kB/s eta 0:00:04\n",
      "   -------------------- ----------------- 440.3/816.1 kB 120.2 kB/s eta 0:00:04\n",
      "   --------------------- ---------------- 471.0/816.1 kB 127.1 kB/s eta 0:00:03\n",
      "   ----------------------- -------------- 501.8/816.1 kB 133.3 kB/s eta 0:00:03\n",
      "   ------------------------ ------------- 522.2/816.1 kB 138.3 kB/s eta 0:00:03\n",
      "   ------------------------- ------------ 553.0/816.1 kB 143.5 kB/s eta 0:00:02\n",
      "   --------------------------- ---------- 583.7/816.1 kB 150.4 kB/s eta 0:00:02\n",
      "   --------------------------- ---------- 593.9/816.1 kB 152.5 kB/s eta 0:00:02\n",
      "   ---------------------------- --------- 614.4/816.1 kB 155.3 kB/s eta 0:00:02\n",
      "   ----------------------------- -------- 624.6/816.1 kB 156.7 kB/s eta 0:00:02\n",
      "   ----------------------------- -------- 624.6/816.1 kB 156.7 kB/s eta 0:00:02\n",
      "   ------------------------------ ------- 645.1/816.1 kB 158.7 kB/s eta 0:00:02\n",
      "   ------------------------------ ------- 645.1/816.1 kB 158.7 kB/s eta 0:00:02\n",
      "   ------------------------------ ------- 665.6/816.1 kB 159.5 kB/s eta 0:00:01\n",
      "   ------------------------------- ------ 675.8/816.1 kB 161.4 kB/s eta 0:00:01\n",
      "   -------------------------------- ----- 696.3/816.1 kB 163.9 kB/s eta 0:00:01\n",
      "   -------------------------------- ----- 696.3/816.1 kB 163.9 kB/s eta 0:00:01\n",
      "   -------------------------------- ----- 706.6/816.1 kB 162.7 kB/s eta 0:00:01\n",
      "   --------------------------------- ---- 727.0/816.1 kB 166.8 kB/s eta 0:00:01\n",
      "   ---------------------------------- --- 747.5/816.1 kB 168.5 kB/s eta 0:00:01\n",
      "   ---------------------------------- --- 747.5/816.1 kB 168.5 kB/s eta 0:00:01\n",
      "   ----------------------------------- -- 757.8/816.1 kB 168.5 kB/s eta 0:00:01\n",
      "   ------------------------------------ - 778.2/816.1 kB 170.7 kB/s eta 0:00:01\n",
      "   ------------------------------------ - 788.5/816.1 kB 171.8 kB/s eta 0:00:01\n",
      "   -------------------------------------- 816.1/816.1 kB 175.5 kB/s eta 0:00:00\n",
      "Downloading langchain_community-0.0.21-py3-none-any.whl (1.7 MB)\n",
      "   ---------------------------------------- 0.0/1.7 MB ? eta -:--:--\n",
      "   ---------------------------------------- 0.0/1.7 MB ? eta -:--:--\n",
      "    --------------------------------------- 0.0/1.7 MB 325.1 kB/s eta 0:00:06\n",
      "    --------------------------------------- 0.0/1.7 MB 326.8 kB/s eta 0:00:06\n",
      "    --------------------------------------- 0.0/1.7 MB 326.8 kB/s eta 0:00:06\n",
      "    --------------------------------------- 0.0/1.7 MB 326.8 kB/s eta 0:00:06\n",
      "   - -------------------------------------- 0.1/1.7 MB 252.2 kB/s eta 0:00:07\n",
      "   - -------------------------------------- 0.1/1.7 MB 252.2 kB/s eta 0:00:07\n",
      "   - -------------------------------------- 0.1/1.7 MB 196.3 kB/s eta 0:00:09\n",
      "   - -------------------------------------- 0.1/1.7 MB 196.3 kB/s eta 0:00:09\n",
      "   -- ------------------------------------- 0.1/1.7 MB 209.5 kB/s eta 0:00:08\n",
      "   -- ------------------------------------- 0.1/1.7 MB 242.7 kB/s eta 0:00:07\n",
      "   -- ------------------------------------- 0.1/1.7 MB 232.7 kB/s eta 0:00:07\n",
      "   --- ------------------------------------ 0.1/1.7 MB 266.2 kB/s eta 0:00:06\n",
      "   --- ------------------------------------ 0.2/1.7 MB 254.6 kB/s eta 0:00:07\n",
      "   ---- ----------------------------------- 0.2/1.7 MB 269.0 kB/s eta 0:00:06\n",
      "   ---- ----------------------------------- 0.2/1.7 MB 269.0 kB/s eta 0:00:06\n",
      "   ---- ----------------------------------- 0.2/1.7 MB 269.0 kB/s eta 0:00:06\n",
      "   ---- ----------------------------------- 0.2/1.7 MB 269.0 kB/s eta 0:00:06\n",
      "   ---- ----------------------------------- 0.2/1.7 MB 269.0 kB/s eta 0:00:06\n",
      "   ---- ----------------------------------- 0.2/1.7 MB 222.6 kB/s eta 0:00:07\n",
      "   ---- ----------------------------------- 0.2/1.7 MB 222.6 kB/s eta 0:00:07\n",
      "   ---- ----------------------------------- 0.2/1.7 MB 211.0 kB/s eta 0:00:08\n",
      "   ---- ----------------------------------- 0.2/1.7 MB 211.0 kB/s eta 0:00:08\n",
      "   ----- ---------------------------------- 0.2/1.7 MB 221.7 kB/s eta 0:00:07\n",
      "   ----- ---------------------------------- 0.2/1.7 MB 221.7 kB/s eta 0:00:07\n",
      "   ----- ---------------------------------- 0.2/1.7 MB 221.7 kB/s eta 0:00:07\n",
      "   ----- ---------------------------------- 0.2/1.7 MB 221.7 kB/s eta 0:00:07\n",
      "   ------ --------------------------------- 0.3/1.7 MB 206.9 kB/s eta 0:00:07\n",
      "   ------ --------------------------------- 0.3/1.7 MB 206.9 kB/s eta 0:00:07\n",
      "   ------ --------------------------------- 0.3/1.7 MB 206.9 kB/s eta 0:00:07\n",
      "   ------ --------------------------------- 0.3/1.7 MB 206.9 kB/s eta 0:00:07\n",
      "   ------ --------------------------------- 0.3/1.7 MB 206.9 kB/s eta 0:00:07\n",
      "   ------ --------------------------------- 0.3/1.7 MB 191.4 kB/s eta 0:00:08\n",
      "   ------ --------------------------------- 0.3/1.7 MB 191.4 kB/s eta 0:00:08\n",
      "   ------ --------------------------------- 0.3/1.7 MB 191.4 kB/s eta 0:00:08\n",
      "   ------ --------------------------------- 0.3/1.7 MB 191.4 kB/s eta 0:00:08\n",
      "   ------ --------------------------------- 0.3/1.7 MB 171.8 kB/s eta 0:00:09\n",
      "   ------ --------------------------------- 0.3/1.7 MB 171.8 kB/s eta 0:00:09\n",
      "   ------ --------------------------------- 0.3/1.7 MB 171.8 kB/s eta 0:00:09\n",
      "   ------ --------------------------------- 0.3/1.7 MB 171.8 kB/s eta 0:00:09\n",
      "   ------ --------------------------------- 0.3/1.7 MB 171.8 kB/s eta 0:00:09\n",
      "   ------ --------------------------------- 0.3/1.7 MB 171.8 kB/s eta 0:00:09\n",
      "   ------ --------------------------------- 0.3/1.7 MB 171.8 kB/s eta 0:00:09\n",
      "   ------ --------------------------------- 0.3/1.7 MB 171.8 kB/s eta 0:00:09\n",
      "   ------ --------------------------------- 0.3/1.7 MB 171.8 kB/s eta 0:00:09\n",
      "   ------ --------------------------------- 0.3/1.7 MB 171.8 kB/s eta 0:00:09\n",
      "   ------ --------------------------------- 0.3/1.7 MB 171.8 kB/s eta 0:00:09\n",
      "   ------ --------------------------------- 0.3/1.7 MB 171.8 kB/s eta 0:00:09\n",
      "   ------ --------------------------------- 0.3/1.7 MB 171.8 kB/s eta 0:00:09\n",
      "   ------ --------------------------------- 0.3/1.7 MB 171.8 kB/s eta 0:00:09\n",
      "   ------ --------------------------------- 0.3/1.7 MB 171.8 kB/s eta 0:00:09\n",
      "   ------ --------------------------------- 0.3/1.7 MB 171.8 kB/s eta 0:00:09\n",
      "   ------ --------------------------------- 0.3/1.7 MB 171.8 kB/s eta 0:00:09\n",
      "   ------ --------------------------------- 0.3/1.7 MB 171.8 kB/s eta 0:00:09\n",
      "   ------ --------------------------------- 0.3/1.7 MB 171.8 kB/s eta 0:00:09\n",
      "   ------ --------------------------------- 0.3/1.7 MB 171.8 kB/s eta 0:00:09\n",
      "   ------ --------------------------------- 0.3/1.7 MB 171.8 kB/s eta 0:00:09\n",
      "   ------ --------------------------------- 0.3/1.7 MB 171.8 kB/s eta 0:00:09\n",
      "   ------ --------------------------------- 0.3/1.7 MB 171.8 kB/s eta 0:00:09\n",
      "   ------ --------------------------------- 0.3/1.7 MB 171.8 kB/s eta 0:00:09\n",
      "   ------ --------------------------------- 0.3/1.7 MB 171.8 kB/s eta 0:00:09\n",
      "   ------ --------------------------------- 0.3/1.7 MB 171.8 kB/s eta 0:00:09\n",
      "   ------ --------------------------------- 0.3/1.7 MB 171.8 kB/s eta 0:00:09\n",
      "   ------ --------------------------------- 0.3/1.7 MB 171.8 kB/s eta 0:00:09\n",
      "   ------ --------------------------------- 0.3/1.7 MB 171.8 kB/s eta 0:00:09\n",
      "   ------ --------------------------------- 0.3/1.7 MB 171.8 kB/s eta 0:00:09\n",
      "   ------ --------------------------------- 0.3/1.7 MB 171.8 kB/s eta 0:00:09\n",
      "   ------ --------------------------------- 0.3/1.7 MB 171.8 kB/s eta 0:00:09\n",
      "   ------ --------------------------------- 0.3/1.7 MB 171.8 kB/s eta 0:00:09\n",
      "   ------ --------------------------------- 0.3/1.7 MB 171.8 kB/s eta 0:00:09\n",
      "   ------ --------------------------------- 0.3/1.7 MB 171.8 kB/s eta 0:00:09\n",
      "   ------ --------------------------------- 0.3/1.7 MB 171.8 kB/s eta 0:00:09\n",
      "   ------ --------------------------------- 0.3/1.7 MB 171.8 kB/s eta 0:00:09\n",
      "   ------ --------------------------------- 0.3/1.7 MB 171.8 kB/s eta 0:00:09\n",
      "   ------ --------------------------------- 0.3/1.7 MB 171.8 kB/s eta 0:00:09\n",
      "   ------ --------------------------------- 0.3/1.7 MB 171.8 kB/s eta 0:00:09\n",
      "   ------ --------------------------------- 0.3/1.7 MB 171.8 kB/s eta 0:00:09\n",
      "   ------ --------------------------------- 0.3/1.7 MB 171.8 kB/s eta 0:00:09\n",
      "   ------ --------------------------------- 0.3/1.7 MB 171.8 kB/s eta 0:00:09\n",
      "   ------ --------------------------------- 0.3/1.7 MB 171.8 kB/s eta 0:00:09\n",
      "   ------ --------------------------------- 0.3/1.7 MB 171.8 kB/s eta 0:00:09\n",
      "   ------ --------------------------------- 0.3/1.7 MB 171.8 kB/s eta 0:00:09\n",
      "   ------ --------------------------------- 0.3/1.7 MB 171.8 kB/s eta 0:00:09\n",
      "   ------ --------------------------------- 0.3/1.7 MB 171.8 kB/s eta 0:00:09\n",
      "   ------ --------------------------------- 0.3/1.7 MB 171.8 kB/s eta 0:00:09\n",
      "   ------ --------------------------------- 0.3/1.7 MB 171.8 kB/s eta 0:00:09\n",
      "   ------ --------------------------------- 0.3/1.7 MB 171.8 kB/s eta 0:00:09\n",
      "   ------ --------------------------------- 0.3/1.7 MB 171.8 kB/s eta 0:00:09\n",
      "   ------ --------------------------------- 0.3/1.7 MB 171.8 kB/s eta 0:00:09\n",
      "   ------ --------------------------------- 0.3/1.7 MB 171.8 kB/s eta 0:00:09\n",
      "   ------ --------------------------------- 0.3/1.7 MB 171.8 kB/s eta 0:00:09\n",
      "   ------ --------------------------------- 0.3/1.7 MB 171.8 kB/s eta 0:00:09\n",
      "   ------ --------------------------------- 0.3/1.7 MB 171.8 kB/s eta 0:00:09\n",
      "   ------ --------------------------------- 0.3/1.7 MB 171.8 kB/s eta 0:00:09\n",
      "   ------ --------------------------------- 0.3/1.7 MB 171.8 kB/s eta 0:00:09\n",
      "   ------ --------------------------------- 0.3/1.7 MB 171.8 kB/s eta 0:00:09\n",
      "   ------ --------------------------------- 0.3/1.7 MB 171.8 kB/s eta 0:00:09\n",
      "   ------ --------------------------------- 0.3/1.7 MB 171.8 kB/s eta 0:00:09\n",
      "   ------ --------------------------------- 0.3/1.7 MB 171.8 kB/s eta 0:00:09\n",
      "   ------ --------------------------------- 0.3/1.7 MB 171.8 kB/s eta 0:00:09\n",
      "   ------ --------------------------------- 0.3/1.7 MB 171.8 kB/s eta 0:00:09\n",
      "   ------ --------------------------------- 0.3/1.7 MB 171.8 kB/s eta 0:00:09\n",
      "   ------ --------------------------------- 0.3/1.7 MB 171.8 kB/s eta 0:00:09\n",
      "   ---------- ----------------------------- 0.4/1.7 MB 94.9 kB/s eta 0:00:14\n",
      "   ---------- ----------------------------- 0.4/1.7 MB 94.9 kB/s eta 0:00:14\n",
      "   ---------- ----------------------------- 0.4/1.7 MB 94.9 kB/s eta 0:00:14\n",
      "   ---------- ----------------------------- 0.4/1.7 MB 94.9 kB/s eta 0:00:14\n",
      "   ----------- ---------------------------- 0.5/1.7 MB 97.6 kB/s eta 0:00:13\n",
      "   ----------- ---------------------------- 0.5/1.7 MB 97.6 kB/s eta 0:00:13\n",
      "   ----------- ---------------------------- 0.5/1.7 MB 98.5 kB/s eta 0:00:13\n",
      "   ----------- ---------------------------- 0.5/1.7 MB 101.8 kB/s eta 0:00:12\n",
      "   ----------- ---------------------------- 0.5/1.7 MB 101.8 kB/s eta 0:00:12\n",
      "   ------------ --------------------------- 0.5/1.7 MB 104.0 kB/s eta 0:00:12\n",
      "   ------------ --------------------------- 0.5/1.7 MB 104.0 kB/s eta 0:00:12\n",
      "   ------------ --------------------------- 0.5/1.7 MB 104.1 kB/s eta 0:00:12\n",
      "   ------------ --------------------------- 0.5/1.7 MB 104.1 kB/s eta 0:00:12\n",
      "   ------------ --------------------------- 0.5/1.7 MB 104.1 kB/s eta 0:00:12\n",
      "   ------------ --------------------------- 0.5/1.7 MB 104.1 kB/s eta 0:00:12\n",
      "   ------------ --------------------------- 0.5/1.7 MB 104.1 kB/s eta 0:00:12\n",
      "   ------------ --------------------------- 0.5/1.7 MB 104.1 kB/s eta 0:00:12\n",
      "   ------------ --------------------------- 0.5/1.7 MB 104.1 kB/s eta 0:00:12\n",
      "   ------------ --------------------------- 0.5/1.7 MB 104.1 kB/s eta 0:00:12\n",
      "   ------------ --------------------------- 0.5/1.7 MB 104.1 kB/s eta 0:00:12\n",
      "   ------------ --------------------------- 0.5/1.7 MB 104.1 kB/s eta 0:00:12\n",
      "   ------------ --------------------------- 0.5/1.7 MB 104.1 kB/s eta 0:00:12\n",
      "   ------------ --------------------------- 0.5/1.7 MB 104.1 kB/s eta 0:00:12\n",
      "   ------------ --------------------------- 0.5/1.7 MB 104.1 kB/s eta 0:00:12\n",
      "   ------------ --------------------------- 0.5/1.7 MB 104.1 kB/s eta 0:00:12\n",
      "   ------------ --------------------------- 0.5/1.7 MB 104.1 kB/s eta 0:00:12\n",
      "   ------------ --------------------------- 0.5/1.7 MB 104.1 kB/s eta 0:00:12\n",
      "   ------------ --------------------------- 0.5/1.7 MB 104.1 kB/s eta 0:00:12\n",
      "   ------------ --------------------------- 0.5/1.7 MB 104.1 kB/s eta 0:00:12\n",
      "   ------------ --------------------------- 0.5/1.7 MB 104.1 kB/s eta 0:00:12\n",
      "   ------------ --------------------------- 0.6/1.7 MB 93.1 kB/s eta 0:00:13\n",
      "   ------------ --------------------------- 0.6/1.7 MB 93.1 kB/s eta 0:00:13\n",
      "   ------------ --------------------------- 0.6/1.7 MB 93.1 kB/s eta 0:00:13\n",
      "   ------------ --------------------------- 0.6/1.7 MB 93.1 kB/s eta 0:00:13\n",
      "   ------------ --------------------------- 0.6/1.7 MB 93.1 kB/s eta 0:00:13\n",
      "   ------------ --------------------------- 0.6/1.7 MB 93.1 kB/s eta 0:00:13\n",
      "   ------------ --------------------------- 0.6/1.7 MB 93.1 kB/s eta 0:00:13\n",
      "   ------------- -------------------------- 0.6/1.7 MB 90.5 kB/s eta 0:00:13\n",
      "   ------------- -------------------------- 0.6/1.7 MB 90.5 kB/s eta 0:00:13\n",
      "   ------------- -------------------------- 0.6/1.7 MB 92.2 kB/s eta 0:00:13\n",
      "   ------------- -------------------------- 0.6/1.7 MB 92.2 kB/s eta 0:00:13\n",
      "   -------------- ------------------------- 0.6/1.7 MB 94.1 kB/s eta 0:00:12\n",
      "   -------------- ------------------------- 0.6/1.7 MB 94.1 kB/s eta 0:00:12\n",
      "   -------------- ------------------------- 0.6/1.7 MB 94.1 kB/s eta 0:00:12\n",
      "   -------------- ------------------------- 0.6/1.7 MB 94.1 kB/s eta 0:00:12\n",
      "   -------------- ------------------------- 0.6/1.7 MB 94.1 kB/s eta 0:00:12\n",
      "   -------------- ------------------------- 0.6/1.7 MB 94.1 kB/s eta 0:00:12\n",
      "   -------------- ------------------------- 0.6/1.7 MB 95.2 kB/s eta 0:00:12\n",
      "   -------------- ------------------------- 0.6/1.7 MB 95.2 kB/s eta 0:00:12\n",
      "   -------------- ------------------------- 0.6/1.7 MB 95.2 kB/s eta 0:00:12\n",
      "   -------------- ------------------------- 0.6/1.7 MB 95.2 kB/s eta 0:00:12\n",
      "   --------------- ------------------------ 0.7/1.7 MB 95.6 kB/s eta 0:00:11\n",
      "   --------------- ------------------------ 0.7/1.7 MB 95.6 kB/s eta 0:00:11\n",
      "   --------------- ------------------------ 0.7/1.7 MB 95.6 kB/s eta 0:00:11\n",
      "   --------------- ------------------------ 0.7/1.7 MB 95.6 kB/s eta 0:00:11\n",
      "   --------------- ------------------------ 0.7/1.7 MB 94.7 kB/s eta 0:00:11\n",
      "   --------------- ------------------------ 0.7/1.7 MB 94.7 kB/s eta 0:00:11\n",
      "   ---------------- ----------------------- 0.7/1.7 MB 96.3 kB/s eta 0:00:11\n",
      "   ---------------- ----------------------- 0.7/1.7 MB 96.3 kB/s eta 0:00:11\n",
      "   ---------------- ----------------------- 0.7/1.7 MB 98.4 kB/s eta 0:00:11\n",
      "   ---------------- ----------------------- 0.7/1.7 MB 98.4 kB/s eta 0:00:11\n",
      "   ----------------- ---------------------- 0.7/1.7 MB 102.6 kB/s eta 0:00:10\n",
      "   ----------------- ---------------------- 0.7/1.7 MB 102.6 kB/s eta 0:00:10\n",
      "   ------------------ --------------------- 0.8/1.7 MB 104.3 kB/s eta 0:00:09\n",
      "   ------------------ --------------------- 0.8/1.7 MB 106.7 kB/s eta 0:00:09\n",
      "   ------------------- -------------------- 0.8/1.7 MB 110.2 kB/s eta 0:00:09\n",
      "   ------------------- -------------------- 0.8/1.7 MB 110.2 kB/s eta 0:00:09\n",
      "   ------------------- -------------------- 0.8/1.7 MB 110.2 kB/s eta 0:00:09\n",
      "   ------------------- -------------------- 0.8/1.7 MB 112.4 kB/s eta 0:00:08\n",
      "   --------------------- ------------------ 0.9/1.7 MB 118.3 kB/s eta 0:00:07\n",
      "   ---------------------- ----------------- 0.9/1.7 MB 123.0 kB/s eta 0:00:07\n",
      "   ---------------------- ----------------- 1.0/1.7 MB 125.4 kB/s eta 0:00:06\n",
      "   ----------------------- ---------------- 1.0/1.7 MB 129.7 kB/s eta 0:00:06\n",
      "   ------------------------ --------------- 1.0/1.7 MB 134.5 kB/s eta 0:00:05\n",
      "   ------------------------- -------------- 1.1/1.7 MB 141.1 kB/s eta 0:00:05\n",
      "   --------------------------- ------------ 1.2/1.7 MB 149.7 kB/s eta 0:00:04\n",
      "   ---------------------------- ----------- 1.2/1.7 MB 152.7 kB/s eta 0:00:04\n",
      "   ----------------------------- ---------- 1.3/1.7 MB 158.6 kB/s eta 0:00:03\n",
      "   ------------------------------ --------- 1.3/1.7 MB 161.2 kB/s eta 0:00:03\n",
      "   ------------------------------ --------- 1.3/1.7 MB 161.2 kB/s eta 0:00:03\n",
      "   ------------------------------- -------- 1.3/1.7 MB 166.4 kB/s eta 0:00:03\n",
      "   -------------------------------- ------- 1.4/1.7 MB 170.5 kB/s eta 0:00:02\n",
      "   ---------------------------------- ----- 1.5/1.7 MB 178.1 kB/s eta 0:00:02\n",
      "   ---------------------------------- ----- 1.5/1.7 MB 178.1 kB/s eta 0:00:02\n",
      "   ---------------------------------- ----- 1.5/1.7 MB 178.1 kB/s eta 0:00:02\n",
      "   ---------------------------------- ----- 1.5/1.7 MB 179.4 kB/s eta 0:00:02\n",
      "   ------------------------------------ --- 1.6/1.7 MB 188.0 kB/s eta 0:00:01\n",
      "   ------------------------------------- -- 1.6/1.7 MB 190.1 kB/s eta 0:00:01\n",
      "   ------------------------------------- -- 1.6/1.7 MB 189.5 kB/s eta 0:00:01\n",
      "   -------------------------------------- - 1.6/1.7 MB 192.5 kB/s eta 0:00:01\n",
      "   -------------------------------------- - 1.6/1.7 MB 192.5 kB/s eta 0:00:01\n",
      "   ---------------------------------------  1.7/1.7 MB 198.8 kB/s eta 0:00:01\n",
      "   ---------------------------------------- 1.7/1.7 MB 198.8 kB/s eta 0:00:00\n",
      "Downloading langchain_core-0.1.24-py3-none-any.whl (241 kB)\n",
      "   ---------------------------------------- 0.0/241.3 kB ? eta -:--:--\n",
      "   - -------------------------------------- 10.2/241.3 kB ? eta -:--:--\n",
      "   --------- ----------------------------- 61.4/241.3 kB 812.7 kB/s eta 0:00:01\n",
      "   --------- ----------------------------- 61.4/241.3 kB 812.7 kB/s eta 0:00:01\n",
      "   --------- ----------------------------- 61.4/241.3 kB 812.7 kB/s eta 0:00:01\n",
      "   --------- ----------------------------- 61.4/241.3 kB 812.7 kB/s eta 0:00:01\n",
      "   --------- ----------------------------- 61.4/241.3 kB 812.7 kB/s eta 0:00:01\n",
      "   ------------- ------------------------- 81.9/241.3 kB 229.0 kB/s eta 0:00:01\n",
      "   ------------------- ------------------ 122.9/241.3 kB 312.9 kB/s eta 0:00:01\n",
      "   ------------------------- ------------ 163.8/241.3 kB 409.6 kB/s eta 0:00:01\n",
      "   ------------------------- ------------ 163.8/241.3 kB 409.6 kB/s eta 0:00:01\n",
      "   -------------------------------- ----- 204.8/241.3 kB 389.1 kB/s eta 0:00:01\n",
      "   -------------------------------- ----- 204.8/241.3 kB 389.1 kB/s eta 0:00:01\n",
      "   -------------------------------- ----- 204.8/241.3 kB 389.1 kB/s eta 0:00:01\n",
      "   -------------------------------------- 241.3/241.3 kB 378.7 kB/s eta 0:00:00\n",
      "Downloading langsmith-0.1.2-py3-none-any.whl (60 kB)\n",
      "   ---------------------------------------- 0.0/61.0 kB ? eta -:--:--\n",
      "   ------ --------------------------------- 10.2/61.0 kB ? eta -:--:--\n",
      "   --------------------------------- ------ 51.2/61.0 kB 650.2 kB/s eta 0:00:01\n",
      "   ---------------------------------------- 61.0/61.0 kB 650.4 kB/s eta 0:00:00\n",
      "Installing collected packages: langsmith, langchain-core, langchain-community, langchain\n",
      "  Attempting uninstall: langsmith\n",
      "    Found existing installation: langsmith 0.0.87\n",
      "    Uninstalling langsmith-0.0.87:\n",
      "      Successfully uninstalled langsmith-0.0.87\n",
      "  Attempting uninstall: langchain-core\n",
      "    Found existing installation: langchain-core 0.1.23\n",
      "    Uninstalling langchain-core-0.1.23:\n",
      "      Successfully uninstalled langchain-core-0.1.23\n",
      "  Attempting uninstall: langchain-community\n",
      "    Found existing installation: langchain-community 0.0.20\n",
      "    Uninstalling langchain-community-0.0.20:\n",
      "      Successfully uninstalled langchain-community-0.0.20\n",
      "  Attempting uninstall: langchain\n",
      "    Found existing installation: langchain 0.1.7\n",
      "    Uninstalling langchain-0.1.7:\n",
      "      Successfully uninstalled langchain-0.1.7\n",
      "Successfully installed langchain-0.1.8 langchain-community-0.0.21 langchain-core-0.1.24 langsmith-0.1.2\n",
      "Note: you may need to restart the kernel to use updated packages.\n"
     ]
    }
   ],
   "source": [
    "pip install --upgrade langchain"
   ]
  },
  {
   "cell_type": "code",
   "execution_count": 3,
   "id": "d17496cf",
   "metadata": {},
   "outputs": [
    {
     "ename": "ModuleNotFoundError",
     "evalue": "No module named 'langchain.loaders'",
     "output_type": "error",
     "traceback": [
      "\u001b[1;31m---------------------------------------------------------------------------\u001b[0m",
      "\u001b[1;31mModuleNotFoundError\u001b[0m                       Traceback (most recent call last)",
      "Cell \u001b[1;32mIn[3], line 1\u001b[0m\n\u001b[1;32m----> 1\u001b[0m \u001b[38;5;28;01mfrom\u001b[39;00m \u001b[38;5;21;01mlangchain\u001b[39;00m\u001b[38;5;21;01m.\u001b[39;00m\u001b[38;5;21;01mloaders\u001b[39;00m \u001b[38;5;28;01mimport\u001b[39;00m DirectoryLoader\n",
      "\u001b[1;31mModuleNotFoundError\u001b[0m: No module named 'langchain.loaders'"
     ]
    }
   ],
   "source": [
    "from langchain.loaders import DirectoryLoader"
   ]
  },
  {
   "cell_type": "code",
   "execution_count": 1,
   "id": "39e5ac2c",
   "metadata": {},
   "outputs": [
    {
     "name": "stdout",
     "output_type": "stream",
     "text": [
      "Note: you may need to restart the kernel to use updated packages.\n"
     ]
    },
    {
     "name": "stderr",
     "output_type": "stream",
     "text": [
      "ERROR: Could not find a version that satisfies the requirement langchain.loaders (from versions: none)\n",
      "ERROR: No matching distribution found for langchain.loaders\n"
     ]
    }
   ],
   "source": [
    "pip install langchain.loaders"
   ]
  },
  {
   "cell_type": "code",
   "execution_count": 2,
   "id": "def34e0a",
   "metadata": {},
   "outputs": [
    {
     "ename": "NameError",
     "evalue": "name 'sys' is not defined",
     "output_type": "error",
     "traceback": [
      "\u001b[1;31m---------------------------------------------------------------------------\u001b[0m",
      "\u001b[1;31mNameError\u001b[0m                                 Traceback (most recent call last)",
      "Cell \u001b[1;32mIn[2], line 2\u001b[0m\n\u001b[0;32m      1\u001b[0m \u001b[38;5;28;01mfrom\u001b[39;00m \u001b[38;5;21;01mlangchain\u001b[39;00m\u001b[38;5;21;01m.\u001b[39;00m\u001b[38;5;21;01mdocument_loaders\u001b[39;00m \u001b[38;5;28;01mimport\u001b[39;00m TextLoader\n\u001b[1;32m----> 2\u001b[0m \u001b[38;5;28mprint\u001b[39m(sys\u001b[38;5;241m.\u001b[39mpath)\n",
      "\u001b[1;31mNameError\u001b[0m: name 'sys' is not defined"
     ]
    }
   ],
   "source": [
    "from langchain.document_loaders import TextLoader\n",
    "print(sys.path)"
   ]
  },
  {
   "cell_type": "code",
   "execution_count": null,
   "id": "8528d749",
   "metadata": {},
   "outputs": [],
   "source": []
  }
 ],
 "metadata": {
  "kernelspec": {
   "display_name": "Python 3 (ipykernel)",
   "language": "python",
   "name": "python3"
  },
  "language_info": {
   "codemirror_mode": {
    "name": "ipython",
    "version": 3
   },
   "file_extension": ".py",
   "mimetype": "text/x-python",
   "name": "python",
   "nbconvert_exporter": "python",
   "pygments_lexer": "ipython3",
   "version": "3.11.5"
  }
 },
 "nbformat": 4,
 "nbformat_minor": 5
}
